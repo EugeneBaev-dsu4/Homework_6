{
 "cells": [
  {
   "cell_type": "markdown",
   "metadata": {},
   "source": [
    "## Задание 1"
   ]
  },
  {
   "cell_type": "code",
   "execution_count": 17,
   "metadata": {},
   "outputs": [
    {
     "name": "stdout",
     "output_type": "stream",
     "text": [
      "2002-10-02 00:00:00\n",
      "2013-10-11 00:00:00\n",
      "1977-08-18 00:00:00\n"
     ]
    }
   ],
   "source": [
    "from datetime import datetime\n",
    "The_Moscow_Times = 'Wednesday,October 2,2002'\n",
    "The_Guardian = 'Friday, 11.10.13'\n",
    "Daily_News  = 'Thursday, 18 August 1977'\n",
    "TMT_datetime = datetime.strptime(The_Moscow_Times,'%A,%B %d,%Y')\n",
    "TG_datetime = datetime.strptime(The_Guardian,'%A, %d.%m.%y')\n",
    "DN_datetime = datetime.strptime(Daily_News,'%A, %d %B %Y')\n",
    "print(TMT_datetime)\n",
    "print(TG_datetime)\n",
    "print(DN_datetime)"
   ]
  },
  {
   "cell_type": "markdown",
   "metadata": {},
   "source": [
    "## Задание 2"
   ]
  },
  {
   "cell_type": "code",
   "execution_count": 22,
   "metadata": {},
   "outputs": [
    {
     "name": "stdout",
     "output_type": "stream",
     "text": [
      "True\n",
      "False\n",
      "False\n"
     ]
    }
   ],
   "source": [
    "from datetime import datetime\n",
    "stream = [\n",
    "    '2018-04-02', \n",
    "    '2018-02-29', \n",
    "    '2018-19-02']\n",
    "def check_date(list_date):\n",
    "    for date in list_date:\n",
    "        try:\n",
    "            valid_date = datetime.strptime(date, '%Y-%m-%d')\n",
    "            print (True)    \n",
    "        except ValueError:\n",
    "            print (False)\n",
    "check_date(stream)"
   ]
  },
  {
   "cell_type": "markdown",
   "metadata": {},
   "source": [
    "## Задание 3"
   ]
  },
  {
   "cell_type": "code",
   "execution_count": 18,
   "metadata": {},
   "outputs": [
    {
     "name": "stdout",
     "output_type": "stream",
     "text": [
      "Введите начальную дату в формате YYYY-MM-DD: 2011-01-01\n",
      "Введите дату окончания в формате YYYY-MM-DD: 2011-01-10\n"
     ]
    },
    {
     "data": {
      "text/plain": [
       "['2011-01-02',\n",
       " '2011-01-03',\n",
       " '2011-01-04',\n",
       " '2011-01-05',\n",
       " '2011-01-06',\n",
       " '2011-01-07',\n",
       " '2011-01-08',\n",
       " '2011-01-09',\n",
       " '2011-01-10',\n",
       " '2011-01-11']"
      ]
     },
     "execution_count": 18,
     "metadata": {},
     "output_type": "execute_result"
    }
   ],
   "source": [
    "from datetime import timedelta\n",
    "from datetime import datetime\n",
    "start_date=input('Введите начальную дату в формате YYYY-MM-DD: ')\n",
    "end_date=input('Введите дату окончания в формате YYYY-MM-DD: ')\n",
    "def date_range(start, end):\n",
    "    try:\n",
    "        start_datetime=datetime.strptime(start,'%Y-%m-%d')\n",
    "        end_datetime=datetime.strptime(end,'%Y-%m-%d')\n",
    "        days=[]\n",
    "        current_datetime=start_datetime\n",
    "        while current_datetime<=end_datetime:\n",
    "            current_datetime=current_datetime+timedelta(days=1)\n",
    "            new_datetime=datetime.strftime(current_datetime,'%Y-%m-%d')\n",
    "            days.append(new_datetime)\n",
    "        return(days)\n",
    "    except ValueError: \n",
    "        print ([])\n",
    "date_range(start_date, end_date)"
   ]
  }
 ],
 "metadata": {
  "kernelspec": {
   "display_name": "Python 3",
   "language": "python",
   "name": "python3"
  },
  "language_info": {
   "codemirror_mode": {
    "name": "ipython",
    "version": 3
   },
   "file_extension": ".py",
   "mimetype": "text/x-python",
   "name": "python",
   "nbconvert_exporter": "python",
   "pygments_lexer": "ipython3",
   "version": "3.7.6"
  }
 },
 "nbformat": 4,
 "nbformat_minor": 4
}
